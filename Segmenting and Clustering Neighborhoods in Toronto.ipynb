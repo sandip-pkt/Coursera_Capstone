{
 "cells": [
  {
   "cell_type": "code",
   "execution_count": 1,
   "metadata": {},
   "outputs": [],
   "source": [
    "from urllib.request import Request, urlopen\n",
    "from bs4 import BeautifulSoup\n",
    "import pandas as pd\n",
    "req=Request(\"https://en.wikipedia.org/wiki/List_of_postal_codes_of_Canada:_M\")\n",
    "html=urlopen(req).read()"
   ]
  },
  {
   "cell_type": "code",
   "execution_count": 13,
   "metadata": {},
   "outputs": [
    {
     "name": "stdout",
     "output_type": "stream",
     "text": [
      "(103, 3)\n"
     ]
    }
   ],
   "source": [
    "soup=BeautifulSoup(html,'html.parser')\n",
    "dataset=soup.find('table',{'class':'wikitable sortable'})\n",
    "data1=dataset.findAll(\"tr\")[:1]\n",
    "header_list=[]\n",
    "post_code=[]\n",
    "prev_post=\"\"\n",
    "prev_borough=\"\"\n",
    "prev_neighbour=\"\"\n",
    "for row in dataset.findAll(\"tr\")[1:]:\n",
    "\tcol=row.findAll(\"td\")\n",
    "\tif col[1].text!='Not assigned' and 'Not assigned' in col[2].text:\n",
    "\n",
    "\t\theader_list=[col[0].text,col[1].text,col[1].text]\n",
    "\telse:\n",
    "\t\tif col[1].text!='Not assigned' and (prev_post==col[0].text) and (prev_borough==col[1].text):\n",
    "\t\t\t\theader_list=[col[0].text,col[1].text,(prev_neighbour+\",\"+col[2].text)]\n",
    "\t\t\t\tprev_neighbour=prev_neighbour+','+col[2].text\n",
    "\t\telse:\n",
    "\t\t\tif col[1].text!='Not assigned':\n",
    "\t\t\t\theader_list=[col[0].text,col[1].text,col[2].text]\n",
    "\t\t\t\tprev_neighbour=col[2].text\n",
    "\t\t\telse:\n",
    "\t\t\t\tcontinue\n",
    "\t\t\t\n",
    "\tpost_code.append(header_list)\n",
    "\tprev_post=col[0].text\n",
    "\tprev_borough=col[1].text\n",
    "table_df=pd.DataFrame(post_code,columns=['PostalCode','Borough','Neighbourhood'])\n",
    "table_df = table_df.replace(r'\\n','', regex=True) \n",
    "table_df.drop_duplicates(['PostalCode'],keep='last',inplace=True)\n",
    "print(table_df.shape)"
   ]
  },
  {
   "cell_type": "code",
   "execution_count": 4,
   "metadata": {},
   "outputs": [
    {
     "name": "stdout",
     "output_type": "stream",
     "text": [
      "Collecting geocoder\n",
      "  Downloading https://files.pythonhosted.org/packages/4f/6b/13166c909ad2f2d76b929a4227c952630ebaf0d729f6317eb09cbceccbab/geocoder-1.38.1-py2.py3-none-any.whl (98kB)\n",
      "Collecting ratelim (from geocoder)\n",
      "  Downloading https://files.pythonhosted.org/packages/f2/98/7e6d147fd16a10a5f821db6e25f192265d6ecca3d82957a4fdd592cad49c/ratelim-0.1.6-py2.py3-none-any.whl\n",
      "Collecting future (from geocoder)\n",
      "  Downloading https://files.pythonhosted.org/packages/90/52/e20466b85000a181e1e144fd8305caf2cf475e2f9674e797b222f8105f5f/future-0.17.1.tar.gz (829kB)\n",
      "Requirement already satisfied: requests in c:\\users\\sandip-13760\\anaconda2\\envs\\py3.6\\lib\\site-packages (from geocoder) (2.18.4)\n",
      "Collecting click (from geocoder)\n",
      "  Using cached https://files.pythonhosted.org/packages/fa/37/45185cb5abbc30d7257104c434fe0b07e5a195a6847506c074527aa599ec/Click-7.0-py2.py3-none-any.whl\n",
      "Requirement already satisfied: six in c:\\users\\sandip-13760\\anaconda2\\envs\\py3.6\\lib\\site-packages (from geocoder) (1.12.0)\n",
      "Requirement already satisfied: decorator in c:\\users\\sandip-13760\\anaconda2\\envs\\py3.6\\lib\\site-packages (from ratelim->geocoder) (4.4.0)\n",
      "Requirement already satisfied: chardet<3.1.0,>=3.0.2 in c:\\users\\sandip-13760\\anaconda2\\envs\\py3.6\\lib\\site-packages (from requests->geocoder) (3.0.4)\n",
      "Requirement already satisfied: idna<2.7,>=2.5 in c:\\users\\sandip-13760\\anaconda2\\envs\\py3.6\\lib\\site-packages (from requests->geocoder) (2.6)\n",
      "Requirement already satisfied: urllib3<1.23,>=1.21.1 in c:\\users\\sandip-13760\\anaconda2\\envs\\py3.6\\lib\\site-packages (from requests->geocoder) (1.22)\n",
      "Requirement already satisfied: certifi>=2017.4.17 in c:\\users\\sandip-13760\\anaconda2\\envs\\py3.6\\lib\\site-packages (from requests->geocoder) (2018.4.16)\n",
      "Building wheels for collected packages: future\n",
      "  Building wheel for future (setup.py): started\n",
      "  Building wheel for future (setup.py): finished with status 'done'\n",
      "  Stored in directory: C:\\Users\\Sandip-13760\\AppData\\Local\\pip\\Cache\\wheels\\0c\\61\\d2\\d6b7317325828fbb39ee6ad559dbe4664d0896da4721bf379e\n",
      "Successfully built future\n",
      "Installing collected packages: ratelim, future, click, geocoder\n",
      "Successfully installed click-7.0 future-0.17.1 geocoder-1.38.1 ratelim-0.1.6\n",
      "Note: you may need to restart the kernel to use updated packages.\n"
     ]
    }
   ],
   "source": [
    "pip install geocoder"
   ]
  },
  {
   "cell_type": "code",
   "execution_count": 7,
   "metadata": {},
   "outputs": [],
   "source": [
    "geo_coordinate_df=pd.read_csv('D:\\Coursera\\Geospatial_Coordinates.csv')  # Download the file"
   ]
  },
  {
   "cell_type": "code",
   "execution_count": 12,
   "metadata": {},
   "outputs": [
    {
     "name": "stdout",
     "output_type": "stream",
     "text": [
      "  PostalCode           Borough             Neighbourhood   Latitude  Longitude\n",
      "0        M3A        North York                 Parkwoods  43.753259 -79.329656\n",
      "1        M4A        North York          Victoria Village  43.725882 -79.315572\n",
      "2        M5A  Downtown Toronto  Harbourfront,Regent Park  43.654260 -79.360636\n"
     ]
    }
   ],
   "source": [
    "result_df=pd.merge(table_df,geo_coordinate_df,left_on='PostalCode',right_on='Postal Code',how='left')\n",
    "result_df=result_df[['PostalCode','Borough','Neighbourhood','Latitude','Longitude']]\n",
    "print(result_df.head(3))"
   ]
  },
  {
   "cell_type": "code",
   "execution_count": null,
   "metadata": {},
   "outputs": [],
   "source": []
  }
 ],
 "metadata": {
  "kernelspec": {
   "display_name": "Python 3",
   "language": "python",
   "name": "python3"
  },
  "language_info": {
   "codemirror_mode": {
    "name": "ipython",
    "version": 3
   },
   "file_extension": ".py",
   "mimetype": "text/x-python",
   "name": "python",
   "nbconvert_exporter": "python",
   "pygments_lexer": "ipython3",
   "version": "3.6.8"
  }
 },
 "nbformat": 4,
 "nbformat_minor": 2
}
